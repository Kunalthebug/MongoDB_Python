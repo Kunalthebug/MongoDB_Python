{
 "cells": [
  {
   "cell_type": "code",
   "execution_count": 21,
   "metadata": {},
   "outputs": [],
   "source": [
    "import pymongo"
   ]
  },
  {
   "cell_type": "code",
   "execution_count": 29,
   "metadata": {},
   "outputs": [],
   "source": [
    "client = pymongo.MongoClient(\"mongodb://localhost:27017/\")"
   ]
  },
  {
   "cell_type": "code",
   "execution_count": 30,
   "metadata": {},
   "outputs": [],
   "source": [
    "mydb=client['Employee']"
   ]
  },
  {
   "cell_type": "code",
   "execution_count": 31,
   "metadata": {},
   "outputs": [],
   "source": [
    "information=mydb.employeeinformation"
   ]
  },
  {
   "cell_type": "code",
   "execution_count": 37,
   "metadata": {},
   "outputs": [],
   "source": [
    "record=[\n",
    "    {\n",
    "    'firstname':'Kunal',\n",
    "    'lastname':'Basu',\n",
    "    'department':'Analytics',\n",
    "    },\n",
    "     {\n",
    "    'firstname':'Ankita',\n",
    "    'lastname':'Roy',\n",
    "    'department':'Java Development'\n",
    "    },\n",
    "    {\n",
    "    'firstname':'Smriti',\n",
    "    'lastname':'Mandhana',\n",
    "    'department':'Data Science'\n",
    "    }]"
   ]
  },
  {
   "cell_type": "code",
   "execution_count": 38,
   "metadata": {},
   "outputs": [
    {
     "data": {
      "text/plain": [
       "<pymongo.results.InsertManyResult at 0x23a93100688>"
      ]
     },
     "execution_count": 38,
     "metadata": {},
     "output_type": "execute_result"
    }
   ],
   "source": [
    "information.insert_many(record)"
   ]
  },
  {
   "cell_type": "code",
   "execution_count": 39,
   "metadata": {},
   "outputs": [
    {
     "name": "stdout",
     "output_type": "stream",
     "text": [
      "['collection', 'employeeinformation']\n"
     ]
    }
   ],
   "source": [
    "print(mydb.list_collection_names())"
   ]
  },
  {
   "cell_type": "code",
   "execution_count": 40,
   "metadata": {},
   "outputs": [],
   "source": [
    "record=[\n",
    "    {\n",
    "    'firstname':'Kunal1',\n",
    "    'lastname':'Basu1',\n",
    "    'department':'Analytics1',\n",
    "    },\n",
    "     {\n",
    "    'firstname':'Ankita1',\n",
    "    'lastname':'Roy1',\n",
    "    'department':'Java Development1'\n",
    "    },\n",
    "    {\n",
    "    'firstname':'Smriti1',\n",
    "    'lastname':'Mandhana1',\n",
    "    'department':'Data Science1'\n",
    "    }]"
   ]
  },
  {
   "cell_type": "code",
   "execution_count": 41,
   "metadata": {},
   "outputs": [
    {
     "data": {
      "text/plain": [
       "<pymongo.results.InsertManyResult at 0x23a935683c8>"
      ]
     },
     "execution_count": 41,
     "metadata": {},
     "output_type": "execute_result"
    }
   ],
   "source": [
    "information.insert_many(record)"
   ]
  },
  {
   "cell_type": "code",
   "execution_count": 47,
   "metadata": {},
   "outputs": [
    {
     "data": {
      "text/plain": [
       "{'_id': ObjectId('5eb4b5b5dd69fe63d9c3e32e'),\n",
       " 'firstname': 'Kunal',\n",
       " 'lastname': 'Basu',\n",
       " 'department': 'Analytics'}"
      ]
     },
     "execution_count": 47,
     "metadata": {},
     "output_type": "execute_result"
    }
   ],
   "source": [
    "#find the irst record\n",
    "information.find_one()"
   ]
  },
  {
   "cell_type": "code",
   "execution_count": 48,
   "metadata": {},
   "outputs": [
    {
     "name": "stdout",
     "output_type": "stream",
     "text": [
      "{'_id': ObjectId('5eb4b5b5dd69fe63d9c3e32e'), 'firstname': 'Kunal', 'lastname': 'Basu', 'department': 'Analytics'}\n",
      "{'_id': ObjectId('5eb4b5b5dd69fe63d9c3e32f'), 'firstname': 'Ankita', 'lastname': 'Roy', 'department': 'Java Development'}\n",
      "{'_id': ObjectId('5eb4b5b5dd69fe63d9c3e330'), 'firstname': 'Smriti', 'lastname': 'Mandhana', 'department': 'Data Science'}\n",
      "{'_id': ObjectId('5eb4ba21c5828a4a02b55393'), 'firstname': 'Test', 'lastname': 'Test1', 'department': 'Test3'}\n",
      "{'_id': ObjectId('5eb4bc7edd69fe63d9c3e331'), 'firstname': 'Kunal1', 'lastname': 'Basu1', 'department': 'Analytics1'}\n",
      "{'_id': ObjectId('5eb4bc7edd69fe63d9c3e332'), 'firstname': 'Ankita1', 'lastname': 'Roy1', 'department': 'Java Development1'}\n",
      "{'_id': ObjectId('5eb4bc7edd69fe63d9c3e333'), 'firstname': 'Smriti1', 'lastname': 'Mandhana1', 'department': 'Data Science1'}\n"
     ]
    }
   ],
   "source": [
    "#select * from db\n",
    "for record in information.find():\n",
    "    print(record)"
   ]
  },
  {
   "cell_type": "code",
   "execution_count": 52,
   "metadata": {},
   "outputs": [
    {
     "name": "stdout",
     "output_type": "stream",
     "text": [
      "{'_id': ObjectId('5eb4b5b5dd69fe63d9c3e32e'), 'firstname': 'Kunal', 'lastname': 'Basu', 'department': 'Analytics'}\n"
     ]
    }
   ],
   "source": [
    "#Query\n",
    "#select * rom db wherr firstname=\"  \"\n",
    "for record in information.find({'firstname':'Kunal'}):\n",
    "    print(record)"
   ]
  },
  {
   "cell_type": "code",
   "execution_count": 53,
   "metadata": {},
   "outputs": [
    {
     "name": "stdout",
     "output_type": "stream",
     "text": [
      "{'_id': ObjectId('5eb4b5b5dd69fe63d9c3e32e'), 'firstname': 'Kunal', 'lastname': 'Basu', 'department': 'Analytics'}\n",
      "{'_id': ObjectId('5eb4b5b5dd69fe63d9c3e32f'), 'firstname': 'Ankita', 'lastname': 'Roy', 'department': 'Java Development'}\n"
     ]
    }
   ],
   "source": [
    "#operators($in,$lt,$gt)\n",
    "for record in information.find({'department':{'$in':['Analytics','Java Development']}}):\n",
    "    print(record)"
   ]
  },
  {
   "cell_type": "code",
   "execution_count": 54,
   "metadata": {},
   "outputs": [
    {
     "name": "stdout",
     "output_type": "stream",
     "text": [
      "{'_id': ObjectId('5eb4b5b5dd69fe63d9c3e32e'), 'firstname': 'Kunal', 'lastname': 'Basu', 'department': 'Analytics'}\n"
     ]
    }
   ],
   "source": [
    "#Querying and operator\n",
    "for record in information.find({'lastname':'Basu','department':'Analytics'}):\n",
    "    print(record)"
   ]
  },
  {
   "cell_type": "code",
   "execution_count": 57,
   "metadata": {},
   "outputs": [
    {
     "name": "stdout",
     "output_type": "stream",
     "text": [
      "{'_id': ObjectId('5eb4b5b5dd69fe63d9c3e32e'), 'firstname': 'Kunal', 'lastname': 'Basu', 'department': 'Analytics'}\n"
     ]
    }
   ],
   "source": [
    "#Querying and operator\n",
    "for record in information.find({'$and':[{'lastname':'Basu'},{'department':'Analytics'}]}):\n",
    "    print(record)"
   ]
  },
  {
   "cell_type": "code",
   "execution_count": 59,
   "metadata": {},
   "outputs": [],
   "source": [
    "colors=mydb.colors"
   ]
  },
  {
   "cell_type": "code",
   "execution_count": 65,
   "metadata": {},
   "outputs": [],
   "source": [
    "record2=[{\n",
    "      \"color\": \"black\",\n",
    "      \"category\": \"hue\",\n",
    "      \"type\": \"primary\",\n",
    "      \"code\": {\n",
    "        \"rgba\": [255,255,255,1],\n",
    "        \"hex\": \"#000\"\n",
    "      }\n",
    "    },\n",
    "    {\n",
    "      \"color\": \"white\",\n",
    "      \"category\": \"value\",\n",
    "      \"code\": {\n",
    "        \"rgba\": [0,0,0,1],\n",
    "        \"hex\": \"#FFF\"\n",
    "      }\n",
    "    },\n",
    "    {\n",
    "      \"color\": \"red\",\n",
    "      \"category\": \"hue\",\n",
    "      \"type\": \"primary\",\n",
    "      \"code\": {\n",
    "        \"rgba\": [255,0,0,1],\n",
    "        \"hex\": \"#FF0\"\n",
    "      }\n",
    "    },\n",
    "    {\n",
    "      \"color\": \"blue\",\n",
    "      \"category\": \"hue\",\n",
    "      \"type\": \"primary\",\n",
    "      \"code\": {\n",
    "        \"rgba\": [0,0,255,1],\n",
    "        \"hex\": \"#00F\"\n",
    "      }\n",
    "    },\n",
    "    {\n",
    "      \"color\": \"yellow\",\n",
    "      \"category\": \"hue\",\n",
    "      \"type\": \"primary\",\n",
    "      \"code\": {\n",
    "        \"rgba\": [255,255,0,1],\n",
    "        \"hex\": \"#FF0\"\n",
    "      }\n",
    "    },\n",
    "    {\n",
    "      \"color\": \"green\",\n",
    "      \"category\": \"hue\",\n",
    "      \"type\": \"secondary\",\n",
    "      \"code\": {\n",
    "        \"rgba\": [0,255,0,1],\n",
    "        \"hex\": \"#0F0\"\n",
    "      }\n",
    "    }\n",
    "]\n"
   ]
  },
  {
   "cell_type": "code",
   "execution_count": 66,
   "metadata": {},
   "outputs": [
    {
     "data": {
      "text/plain": [
       "<pymongo.results.InsertManyResult at 0x23a9356ff08>"
      ]
     },
     "execution_count": 66,
     "metadata": {},
     "output_type": "execute_result"
    }
   ],
   "source": [
    "colors.insert_many(record2)"
   ]
  },
  {
   "cell_type": "code",
   "execution_count": 67,
   "metadata": {},
   "outputs": [
    {
     "name": "stdout",
     "output_type": "stream",
     "text": [
      "{'_id': ObjectId('5eb4c84add69fe63d9c3e33a'), 'color': 'green', 'category': 'hue', 'type': 'secondary', 'code': {'rgba': [0, 255, 0, 1], 'hex': '#0F0'}}\n"
     ]
    }
   ],
   "source": [
    "for record2 in colors.find({'color':\"green\"}):\n",
    "    print(record2)"
   ]
  },
  {
   "cell_type": "code",
   "execution_count": null,
   "metadata": {},
   "outputs": [],
   "source": []
  }
 ],
 "metadata": {
  "kernelspec": {
   "display_name": "Python 3",
   "language": "python",
   "name": "python3"
  },
  "language_info": {
   "codemirror_mode": {
    "name": "ipython",
    "version": 3
   },
   "file_extension": ".py",
   "mimetype": "text/x-python",
   "name": "python",
   "nbconvert_exporter": "python",
   "pygments_lexer": "ipython3",
   "version": "3.7.3"
  },
  "toc": {
   "base_numbering": 1,
   "nav_menu": {},
   "number_sections": true,
   "sideBar": true,
   "skip_h1_title": false,
   "title_cell": "Table of Contents",
   "title_sidebar": "Contents",
   "toc_cell": false,
   "toc_position": {},
   "toc_section_display": true,
   "toc_window_display": false
  },
  "varInspector": {
   "cols": {
    "lenName": 16,
    "lenType": 16,
    "lenVar": 40
   },
   "kernels_config": {
    "python": {
     "delete_cmd_postfix": "",
     "delete_cmd_prefix": "del ",
     "library": "var_list.py",
     "varRefreshCmd": "print(var_dic_list())"
    },
    "r": {
     "delete_cmd_postfix": ") ",
     "delete_cmd_prefix": "rm(",
     "library": "var_list.r",
     "varRefreshCmd": "cat(var_dic_list()) "
    }
   },
   "types_to_exclude": [
    "module",
    "function",
    "builtin_function_or_method",
    "instance",
    "_Feature"
   ],
   "window_display": false
  }
 },
 "nbformat": 4,
 "nbformat_minor": 2
}
